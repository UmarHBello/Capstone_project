{
 "cells": [
  {
   "cell_type": "markdown",
   "metadata": {},
   "source": [
    "Create a project focused on downloading, processing, and visualizing data.\n",
    "\n",
    "**Introduction:**\n",
    "\n",
    "This project aims to analyze air travel passenger data from 1958 to 1960. The objective is to understand the trends and patterns in air travel over these years.\n",
    "\n",
    "**Data Downloading:**\n",
    "\n",
    "The data is sourced from a publicly available dataset. We will download the data using pandas and perform initial preprocessing to convert the 'Month' column to a datetime format.\n",
    "\n",
    "**Data Processing:**\n",
    "\n",
    "We will clean the data by handling any missing values and transforming the 'Month' column to a datetime format. This will allow us to perform time series analysis.\n",
    "\n",
    "**Data Visualization:**\n",
    "\n",
    "We will create line plots to visualize the number of passengers over the months for each year (1958, 1959, 1960). These visualizations will help us identify trends and seasonal patterns in air travel.\n",
    "\n"
   ]
  },
  {
   "cell_type": "code",
   "execution_count": null,
   "metadata": {},
   "outputs": [],
   "source": [
    "%pip install pandas\n",
    "%pip install matplotlib\n",
    "\n",
    "import numpy as np\n",
    "import pandas as pd\n",
    "import matplotlib.pyplot as plt\n",
    "import random\n",
    "from datetime import datetime, timedelta\n",
    "\n",
    "url = 'https://people.sc.fsu.edu/~jburkardt/data/csv/airtravel.csv'\n",
    "df = pd.read_csv(url)\n",
    "\n",
    "\n",
    "df['Month'] = pd.to_datetime(df['Month'], format='%b')\n",
    "\n",
    "df.columns = df.columns.str.strip().str.replace('\"', '')\n",
    "df.plot(x='Month', y=['1958', '1959', '1960'], kind='line')\n",
    "plt.title('Air Travel Passengers Over Time')\n",
    "plt.xlabel('Month')\n",
    "plt.ylabel('Number of Passengers')\n",
    "plt.show()"
   ]
  },
  {
   "cell_type": "markdown",
   "metadata": {},
   "source": [
    "\n",
    "**Conclusion:** \n",
    "\n",
    "The analysis of air travel passenger data from 1958 to 1960 reveals significant trends and patterns. The visualizations provide insights into the seasonal variations in air travel. Future work could involve extending the analysis to more recent data and exploring other factors that influence air travel."
   ]
  }
 ],
 "metadata": {
  "kernelspec": {
   "display_name": "base",
   "language": "python",
   "name": "python3"
  },
  "language_info": {
   "codemirror_mode": {
    "name": "ipython",
    "version": 3
   },
   "file_extension": ".py",
   "mimetype": "text/x-python",
   "name": "python",
   "nbconvert_exporter": "python",
   "pygments_lexer": "ipython3",
   "version": "3.12.3"
  }
 },
 "nbformat": 4,
 "nbformat_minor": 2
}
